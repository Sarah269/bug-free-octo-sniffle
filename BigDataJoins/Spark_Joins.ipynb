{
 "cells": [
  {
   "cell_type": "code",
   "execution_count": null,
   "metadata": {},
   "outputs": [],
   "source": [
    "# Spark Joins\n",
    "# Build a Spark job that\n",
    "# - Disabled automataic broadcast join\n",
    "# - Explicit broadcast join\n",
    "# - Bucket join"
   ]
  },
  {
   "cell_type": "code",
   "execution_count": null,
   "metadata": {
    "id": "IXIowNtC6FY2"
   },
   "outputs": [],
   "source": [
    "# Import Libraries\n",
    "from pyspark.sql import SparkSession\n",
    "from pyspark import SparkConf\n"
   ]
  },
  {
   "cell_type": "code",
   "execution_count": null,
   "metadata": {
    "id": "2pqO6g9y6nfJ"
   },
   "outputs": [],
   "source": [
    "# Create Spark Session\n",
    "spark = SparkSession.builder.appName('sparkjoins').getOrCreate()\n"
   ]
  },
  {
   "cell_type": "markdown",
   "metadata": {
    "id": "hMB1jsvUlIVL"
   },
   "source": [
    "\n"
   ]
  },
  {
   "cell_type": "code",
   "execution_count": 5,
   "metadata": {
    "id": "V91cQ7qA7a2W"
   },
   "outputs": [],
   "source": [
    "# Disable broadcast Join\n",
    "spark.conf.set(\"spark.sql.autoBroadcastJoinThreshold\", -1)"
   ]
  },
  {
   "cell_type": "code",
   "execution_count": 6,
   "metadata": {
    "id": "3DfL0_sA7CzO"
   },
   "outputs": [
    {
     "name": "stderr",
     "output_type": "stream",
     "text": [
      "                                                                                \r"
     ]
    }
   ],
   "source": [
    "# Read csv files into pyspark dataframes\n",
    "\n",
    "# Read matches.csv\n",
    "# a row for every match\n",
    "\n",
    "matches = spark.read.option(\"header\", \"true\") \\\n",
    "                        .option(\"inferSchema\", \"true\") \\\n",
    "                        .csv(\"/home/iceberg/data/matches.csv\")\n",
    "# Read match_details.csv\n",
    "# a row for every players' performance in a match\n",
    "\n",
    "matchDetails =  spark.read.option(\"header\", \"true\") \\\n",
    "                        .option(\"inferSchema\", \"true\") \\\n",
    "                        .csv(\"/home/iceberg/data/match_details.csv\")\n",
    "# Read medals_matches_players\n",
    "# a row for every medal type a player gets in a match\n",
    "\n",
    "medalsMatchesPlayers =  spark.read.option(\"header\", \"true\") \\\n",
    "                        .option(\"inferSchema\", \"true\") \\\n",
    "                        .csv(\"/home/iceberg/data/medals_matches_players.csv\")\n",
    "# Read medals\n",
    "# a row for every medal type\n",
    "\n",
    "medals =  spark.read.option(\"header\", \"true\") \\\n",
    "                        .option(\"inferSchema\", \"true\") \\\n",
    "                        .csv(\"/home/iceberg/data/medals.csv\")\n",
    "# Read maps\n",
    "# a row for every map type\n",
    "\n",
    "maps =  spark.read.option(\"header\", \"true\") \\\n",
    "                        .option(\"inferSchema\", \"true\") \\\n",
    "                        .csv(\"/home/iceberg/data/maps.csv\")"
   ]
  },
  {
   "cell_type": "code",
   "execution_count": 12,
   "metadata": {
    "id": "xYZY4ch5TK0g"
   },
   "outputs": [],
   "source": [
    "# Rename columns\n",
    "\n",
    "medalsMatchesPlayers = medalsMatchesPlayers.withColumnRenamed(\"count\",\"medal_count\")\n",
    "\n",
    "maps = maps.withColumnRenamed(\"name\",\"map_name\")\n",
    "\n",
    "medals = medals.withColumnRenamed(\"classification\", \"medal_class\") \\\n",
    "        .withColumnRenamed(\"description\",\"medal_desc\") \\\n",
    "        .withColumnRenamed(\"difficulty\",\"medal_difficulty\") \\\n",
    "        .withColumnRenamed(\"name\", \"medal_name\")"
   ]
  },
  {
   "cell_type": "code",
   "execution_count": 77,
   "metadata": {},
   "outputs": [
    {
     "name": "stdout",
     "output_type": "stream",
     "text": [
      "+--------------------+-------------------+--------------------+\n",
      "|               mapid|           map_name|         description|\n",
      "+--------------------+-------------------+--------------------+\n",
      "|c93d708f-f206-11e...|              Urban|Andesia was the c...|\n",
      "|cb251c51-f206-11e...|     Raid on Apex 7|This unbroken rin...|\n",
      "|c854e54f-f206-11e...|March on Stormbreak|                NULL|\n",
      "|c8d69870-f206-11e...| Escape from A.R.C.|Scientists flocke...|\n",
      "|73ed1fd0-45e5-4bb...|             Osiris|                NULL|\n",
      "+--------------------+-------------------+--------------------+\n",
      "only showing top 5 rows\n",
      "\n"
     ]
    }
   ],
   "source": [
    "maps.show(5)"
   ]
  },
  {
   "cell_type": "code",
   "execution_count": 13,
   "metadata": {
    "colab": {
     "base_uri": "https://localhost:8080/"
    },
    "id": "hgtc_bipyRMn",
    "outputId": "3f240c7a-ab3f-46e3-fec3-27856890146b"
   },
   "outputs": [],
   "source": [
    "# import broadcast\n",
    "from pyspark.sql.functions import expr, col, broadcast, split\n",
    "\n"
   ]
  },
  {
   "cell_type": "code",
   "execution_count": 21,
   "metadata": {
    "id": "rgFEzCMSO9qh"
   },
   "outputs": [],
   "source": [
    "# Explicitly broadcast join maps to matches\n",
    "# Select columns from matches\n",
    "# Select columns from maps\n",
    "# Join on mapid\n",
    "\n",
    "matchesMaps = (\n",
    "    matches\n",
    "    .select('match_id', 'is_team_game', 'playlist_id', 'completion_date', 'mapid')  \\\n",
    "    .join(broadcast(maps).select('mapid', 'map_name'), on='mapid', how='left_outer')  \\\n",
    "    .select('match_id', 'is_team_game', 'playlist_id', 'completion_date', 'mapid', 'map_name')  \\\n",
    ")"
   ]
  },
  {
   "cell_type": "code",
   "execution_count": 24,
   "metadata": {
    "id": "90iDtIYiRKbl"
   },
   "outputs": [],
   "source": [
    "# Explicitly broadcast joins medals to medalMatchesPlayers\n",
    "# Select columns from medalsMatchesPlayers\n",
    "# Select columns from medals\n",
    "# Join on medal_id\n",
    "\n",
    "mmpMedals = (\n",
    "    medalsMatchesPlayers\n",
    "    .select('match_id', 'player_gamertag','medal_id','medal_count')    \n",
    "    .join(broadcast(medals).select('medal_id','medal_name'), \\\n",
    "          on='medal_id' , how='left_outer') \\\n",
    "    .select('match_id', 'player_gamertag','medal_id','medal_name', 'medal_count') \n",
    "    )"
   ]
  },
  {
   "cell_type": "code",
   "execution_count": 25,
   "metadata": {},
   "outputs": [],
   "source": [
    "#  Create a version of matchDetails with fewer columns.  \n",
    "\n",
    "matchDetailsMini = matchDetails.select(\"match_id\",\"player_gamertag\", \"player_total_kills\", \"player_total_deaths\")                "
   ]
  },
  {
   "cell_type": "code",
   "execution_count": null,
   "metadata": {},
   "outputs": [],
   "source": [
    "# Bucket join matches, match_details, and medals_matches_players on match_id with 16 buckets"
   ]
  },
  {
   "cell_type": "code",
   "execution_count": 50,
   "metadata": {
    "colab": {
     "base_uri": "https://localhost:8080/",
     "height": 1000
    },
    "id": "_Ety_tYfh76I",
    "outputId": "60c71f9a-3dce-48ab-99e9-acc2e31ba92e"
   },
   "outputs": [],
   "source": [
    "# Create table for matches\n",
    "\n",
    "matchesMaps.write.format(\"iceberg\").mode(\"overwrite\").bucketBy(16,\"match_id\").saveAsTable(\"sparkjoins.matchesMaps_bucketed\")"
   ]
  },
  {
   "cell_type": "code",
   "execution_count": 51,
   "metadata": {},
   "outputs": [
    {
     "name": "stdout",
     "output_type": "stream",
     "text": [
      "+--------+\n",
      "|count(1)|\n",
      "+--------+\n",
      "|   24025|\n",
      "+--------+\n",
      "\n"
     ]
    }
   ],
   "source": [
    "spark.sql(\"\"\" select count(*) from sparkjoins.matchesMaps_bucketed \"\"\").show()"
   ]
  },
  {
   "cell_type": "code",
   "execution_count": 52,
   "metadata": {
    "id": "xn7EbF4Kh8FB"
   },
   "outputs": [
    {
     "name": "stderr",
     "output_type": "stream",
     "text": [
      "                                                                                \r"
     ]
    }
   ],
   "source": [
    "# Create table with 16 buckets in iceberg format for medals_matches_players\n",
    "\n",
    "mmpMedals.write.format(\"iceberg\").mode(\"overwrite\").bucketBy(16,\"match_id\").saveAsTable(\"sparkjoins.medals_bucketed\")"
   ]
  },
  {
   "cell_type": "code",
   "execution_count": 54,
   "metadata": {},
   "outputs": [
    {
     "name": "stdout",
     "output_type": "stream",
     "text": [
      "+--------+\n",
      "|count(1)|\n",
      "+--------+\n",
      "|  755229|\n",
      "+--------+\n",
      "\n"
     ]
    }
   ],
   "source": [
    "spark.sql(\"\"\" select count(*) from sparkjoins.medals_bucketed \"\"\").show()"
   ]
  },
  {
   "cell_type": "code",
   "execution_count": 56,
   "metadata": {
    "id": "uiMO8MFKib27"
   },
   "outputs": [],
   "source": [
    "# Create table with 16 bucketes in iceberg format for match_details\n",
    "\n",
    "matchDetailsMini.write.format(\"iceberg\").mode(\"overwrite\").bucketBy(16,\"match_id\").saveAsTable(\"sparkjoins.matchDetails_bucketed\")"
   ]
  },
  {
   "cell_type": "code",
   "execution_count": 57,
   "metadata": {},
   "outputs": [
    {
     "name": "stdout",
     "output_type": "stream",
     "text": [
      "+--------+\n",
      "|count(1)|\n",
      "+--------+\n",
      "|  151761|\n",
      "+--------+\n",
      "\n"
     ]
    }
   ],
   "source": [
    "spark.sql(\"\"\" select count(*) from sparkjoins.matchDetails_bucketed \"\"\").show()"
   ]
  },
  {
   "cell_type": "code",
   "execution_count": 58,
   "metadata": {
    "id": "fKS1TI275pb4"
   },
   "outputs": [],
   "source": [
    "# Set the following to ensure no shuffling\n",
    "spark.conf.set('spark.sql.sources.v2.bucketing.enabled','true')\n",
    "spark.conf.set('spark.sql.sources.v2.bucketing.pushPartValues.enabled','true')\n",
    "spark.conf.set('spark.sql.iceberg.planning.preserve-data-grouping','true')\n",
    "spark.conf.set('spark.sql.requireAllClusterKeysForCoPartition','false')"
   ]
  },
  {
   "cell_type": "code",
   "execution_count": 59,
   "metadata": {},
   "outputs": [],
   "source": [
    "# Bucket join bootcamp.matchesMaps_bucketed with bootcamp.matchDetails_bucketed\n",
    "# Select all column from bootcamp.matchesMaps_bucketed\n",
    "# Select three columns from bootcamp.matchDetails_bucketed\n",
    "# Join on match_id\n",
    "\n",
    "matchesJoinDetails = spark.sql(\"\"\"  \n",
    "select\n",
    "mm.*, \n",
    "md.player_gamertag, \n",
    "md.player_total_kills, \n",
    "md.player_total_deaths \n",
    "from sparkjoins.matchesMaps_bucketed mm\n",
    "join sparkjoins.matchDetails_bucketed md \n",
    "on mm.match_id = md.match_id \n",
    " \"\"\")"
   ]
  },
  {
   "cell_type": "code",
   "execution_count": 60,
   "metadata": {},
   "outputs": [
    {
     "name": "stderr",
     "output_type": "stream",
     "text": [
      "                                                                                \r"
     ]
    }
   ],
   "source": [
    "# Create table with 16 buckets in iceberg format for matchesJoinDetails\n",
    "\n",
    "matchesJoinDetails.write.format(\"iceberg\").mode(\"overwrite\").bucketBy(16,\"match_id\").saveAsTable(\"sparkjoins.matches_n_Details_bucketed\")"
   ]
  },
  {
   "cell_type": "code",
   "execution_count": 61,
   "metadata": {},
   "outputs": [
    {
     "name": "stdout",
     "output_type": "stream",
     "text": [
      "+--------+\n",
      "|count(1)|\n",
      "+--------+\n",
      "|  151761|\n",
      "+--------+\n",
      "\n"
     ]
    }
   ],
   "source": [
    "spark.sql(\"\"\" select count(*) from sparkjoins.matches_n_Details_bucketed \"\"\").show()"
   ]
  },
  {
   "cell_type": "code",
   "execution_count": 62,
   "metadata": {
    "id": "caZHsuqBjtns"
   },
   "outputs": [],
   "source": [
    "# Bucket Join bootcamp.matches_n_Details_bucketed with bootcamp.medals_bucketed\n",
    "# Select all columns from bootcamp.matches_n_Details_bucketed\n",
    "# Select three columns from bootcamp.medals_bucketed\n",
    "# Join on match_id and player_gamertag\n",
    "\n",
    "gamingDetails1 = spark.sql(\"\"\" \n",
    "select \n",
    "md.*, \n",
    "m.medal_id, \n",
    "m.medal_name,\n",
    "m.medal_count\n",
    "from sparkjoins.matches_n_Details_bucketed md\n",
    "left join sparkjoins.medals_bucketed m \n",
    "on md.match_id = m.match_id\n",
    "and md.player_gamertag = m.player_gamertag \n",
    "\n",
    " \"\"\")"
   ]
  },
  {
   "cell_type": "code",
   "execution_count": 63,
   "metadata": {},
   "outputs": [
    {
     "name": "stderr",
     "output_type": "stream",
     "text": [
      "                                                                                \r"
     ]
    }
   ],
   "source": [
    "# Create table with 16  buckets in iceberg format for gamingDetails1\n",
    "\n",
    "gamingDetails1.write.format(\"iceberg\").mode(\"overwrite\").bucketBy(16,\"match_id\").saveAsTable(\"sparkjoins.gamingInfo\")"
   ]
  },
  {
   "cell_type": "code",
   "execution_count": 64,
   "metadata": {},
   "outputs": [
    {
     "name": "stdout",
     "output_type": "stream",
     "text": [
      "+--------+\n",
      "|count(1)|\n",
      "+--------+\n",
      "|  757943|\n",
      "+--------+\n",
      "\n"
     ]
    }
   ],
   "source": [
    "spark.sql(\"\"\" select count(*) from sparkjoins.gamingInfo \"\"\").show()"
   ]
  },
  {
   "cell_type": "code",
   "execution_count": 66,
   "metadata": {},
   "outputs": [
    {
     "name": "stderr",
     "output_type": "stream",
     "text": [
      "                                                                                \r"
     ]
    },
    {
     "data": {
      "text/plain": [
       "DataFrame[]"
      ]
     },
     "execution_count": 66,
     "metadata": {},
     "output_type": "execute_result"
    }
   ],
   "source": [
    "# Joined gaming datasets table: bootcamp.gamingInfo\n",
    "# Summarize game details\n",
    "# Display one summary record for each game played by a gamer with total_kills, total_deaths, total_medals\n",
    "# Eliminate repeating game details\n",
    "\n",
    "spark.sql(\"\"\"  \n",
    "create table sparkjoins.agg_gamer_games using iceberg partitioned by (bucket(16, match_id)) as\n",
    "\n",
    "select\n",
    "match_id,\n",
    "playlist_id,\n",
    "map_name,\n",
    "player_gamertag,\n",
    "player_total_kills,\n",
    "player_total_deaths,\n",
    "coalesce(sum(medal_count),0) as total_medals\n",
    "from sparkjoins.gamingInfo\n",
    "group by match_id, playlist_id, map_name,player_gamertag, player_total_kills, player_total_deaths\n",
    "order by player_gamertag, match_id\n",
    "\"\"\")"
   ]
  },
  {
   "cell_type": "code",
   "execution_count": 67,
   "metadata": {},
   "outputs": [
    {
     "name": "stdout",
     "output_type": "stream",
     "text": [
      "+--------+\n",
      "|count(1)|\n",
      "+--------+\n",
      "|  151761|\n",
      "+--------+\n",
      "\n"
     ]
    }
   ],
   "source": [
    "spark.sql(\"\"\" select count(*) from sparkjoins.agg_gamer_games\"\"\").show()"
   ]
  },
  {
   "cell_type": "code",
   "execution_count": 69,
   "metadata": {},
   "outputs": [
    {
     "name": "stdout",
     "output_type": "stream",
     "text": [
      "+--------------------+--------------------+--------------+---------------+------------------+-------------------+------------+\n",
      "|            match_id|         playlist_id|      map_name|player_gamertag|player_total_kills|player_total_deaths|total_medals|\n",
      "+--------------------+--------------------+--------------+---------------+------------------+-------------------+------------+\n",
      "|7f43c723-9971-4d2...|f72e0ef0-7c4a-430...|Breakout Arena|   A 2tha nimal|                 4|                  6|           3|\n",
      "|17b357b4-3e1b-4e3...|f72e0ef0-7c4a-430...|Breakout Arena|       A BIG mC|                 5|                  6|           6|\n",
      "|d97b0507-1d96-4bd...|f72e0ef0-7c4a-430...|Breakout Arena|A BRIGHT SHADOW|                 5|                  7|           7|\n",
      "|fee605e5-4aa2-412...|2323b76a-db98-4e0...|      Riptide |A BacKWaRdsManN|                 6|                 13|           4|\n",
      "|34ad3973-769e-433...|f72e0ef0-7c4a-430...|Breakout Arena| A CAT WHO DABS|                 4|                  1|           3|\n",
      "+--------------------+--------------------+--------------+---------------+------------------+-------------------+------------+\n",
      "\n"
     ]
    }
   ],
   "source": [
    "spark.sql(\"\"\" select * from sparkjoins.agg_gamer_games limit 5 \"\"\").show()"
   ]
  },
  {
   "cell_type": "code",
   "execution_count": 70,
   "metadata": {},
   "outputs": [
    {
     "name": "stdout",
     "output_type": "stream",
     "text": [
      "+---------------+------------------+\n",
      "|player_gamertag|avg_kills_per_game|\n",
      "+---------------+------------------+\n",
      "|   gimpinator14|             109.0|\n",
      "+---------------+------------------+\n",
      "\n"
     ]
    }
   ],
   "source": [
    "# Q1. Which player averages the most kills per game?\n",
    "\n",
    "spark.sql(\"\"\"\n",
    "select player_gamertag, avg(player_total_kills) as avg_kills_per_game\n",
    "from sparkjoins.agg_gamer_games\n",
    "group by player_gamertag\n",
    "order by avg_kills_per_game desc\n",
    "limit 1\n",
    "\"\"\").show()"
   ]
  },
  {
   "cell_type": "code",
   "execution_count": 71,
   "metadata": {},
   "outputs": [
    {
     "name": "stdout",
     "output_type": "stream",
     "text": [
      "+------------------------------------+----------+\n",
      "|playlist_id                         |amt_played|\n",
      "+------------------------------------+----------+\n",
      "|f72e0ef0-7c4a-4307-af78-8e38dac3fdba|58868     |\n",
      "+------------------------------------+----------+\n",
      "\n"
     ]
    }
   ],
   "source": [
    "# Q2. Which playlist gets played the most?\n",
    "\n",
    "spark.sql(\"\"\"\n",
    "select playlist_id, count(*) as amt_played\n",
    "from sparkjoins.agg_gamer_games\n",
    "group by playlist_id\n",
    "order by amt_played desc\n",
    "limit 1\n",
    "\"\"\").show(truncate=False)"
   ]
  },
  {
   "cell_type": "code",
   "execution_count": 72,
   "metadata": {},
   "outputs": [
    {
     "name": "stdout",
     "output_type": "stream",
     "text": [
      "+--------------+----------+\n",
      "|map_name      |amt_played|\n",
      "+--------------+----------+\n",
      "|Breakout Arena|54001     |\n",
      "+--------------+----------+\n",
      "\n"
     ]
    }
   ],
   "source": [
    "# Q3. Which map get played the most?\n",
    "\n",
    "spark.sql(\"\"\"\n",
    "select map_name, count(*) as amt_played\n",
    "from sparkjoins.agg_gamer_games\n",
    "group by map_name\n",
    "order by amt_played desc\n",
    "limit 1\n",
    "\"\"\").show(truncate=False)"
   ]
  },
  {
   "cell_type": "code",
   "execution_count": 74,
   "metadata": {},
   "outputs": [
    {
     "name": "stderr",
     "output_type": "stream",
     "text": [
      "                                                                                \r"
     ]
    },
    {
     "data": {
      "text/plain": [
       "DataFrame[]"
      ]
     },
     "execution_count": 74,
     "metadata": {},
     "output_type": "execute_result"
    }
   ],
   "source": [
    "# For each game played by a gamer list the medals earned along with match_id, playlist_id, and map_name\n",
    "# sum medal count\n",
    "# Remove players who have not earned medals\n",
    "\n",
    "spark.sql(\"\"\"\n",
    "create table sparkjoins.agg_gamer_medals using iceberg partitioned by (bucket(16, match_id)) as\n",
    " \n",
    "select\n",
    "match_id,\n",
    "playlist_id,\n",
    "map_name,\n",
    "player_gamertag,\n",
    "medal_name,\n",
    "coalesce(sum(medal_count),0) as medal_count\n",
    "from sparkjoins.gamingInfo\n",
    "where medal_id is not null\n",
    "group by match_id, playlist_id, map_name,player_gamertag, medal_name\n",
    "order by player_gamertag, medal_name\n",
    "\n",
    "\"\"\")"
   ]
  },
  {
   "cell_type": "code",
   "execution_count": 75,
   "metadata": {},
   "outputs": [
    {
     "name": "stdout",
     "output_type": "stream",
     "text": [
      "+--------------+-------------+----------+\n",
      "|      map_name|   medal_name|num_medals|\n",
      "+--------------+-------------+----------+\n",
      "|Breakout Arena|Killing Spree|      6553|\n",
      "+--------------+-------------+----------+\n",
      "\n"
     ]
    }
   ],
   "source": [
    "# Q4. Which map do players get the most Killing Spree medals on ?\n",
    "\n",
    "spark.sql(\"\"\"\n",
    "select map_name, medal_name, count(*) as num_medals\n",
    "from sparkjoins.agg_gamer_medals\n",
    "where medal_name = 'Killing Spree'\n",
    "group by map_name, medal_name\n",
    "order by num_medals desc\n",
    "limit 1\n",
    "\"\"\").show()"
   ]
  },
  {
   "cell_type": "code",
   "execution_count": null,
   "metadata": {},
   "outputs": [],
   "source": []
  }
 ],
 "metadata": {
  "colab": {
   "provenance": []
  },
  "kernelspec": {
   "display_name": "Python 3 (ipykernel)",
   "language": "python",
   "name": "python3"
  },
  "language_info": {
   "codemirror_mode": {
    "name": "ipython",
    "version": 3
   },
   "file_extension": ".py",
   "mimetype": "text/x-python",
   "name": "python",
   "nbconvert_exporter": "python",
   "pygments_lexer": "ipython3",
   "version": "3.9.18"
  }
 },
 "nbformat": 4,
 "nbformat_minor": 4
}
