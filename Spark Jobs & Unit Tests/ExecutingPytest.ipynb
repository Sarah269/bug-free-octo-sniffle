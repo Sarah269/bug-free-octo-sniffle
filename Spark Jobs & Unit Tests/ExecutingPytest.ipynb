{
 "cells": [
  {
   "cell_type": "code",
   "execution_count": 2,
   "id": "04aa686d-0acc-4c4a-bc64-fa16ccaddb3e",
   "metadata": {
    "scrolled": true
   },
   "outputs": [
    {
     "name": "stdout",
     "output_type": "stream",
     "text": [
      "\u001b[1m============================= test session starts ==============================\u001b[0m\n",
      "platform linux -- Python 3.9.18, pytest-8.3.4, pluggy-1.5.0\n",
      "rootdir: /home/iceberg/notebooks/notebooks\n",
      "plugins: anyio-4.3.0\n",
      "collected 6 items                                                              \u001b[0m\u001b[1m\n",
      "\n",
      "src/tests/test_actors_scd_backfill.py \u001b[32m.\u001b[0m\u001b[32m                                  [ 16%]\u001b[0m\n",
      "src/tests/test_actors_scd_cte_backfill.py \u001b[32m.\u001b[0m\u001b[32m.\u001b[0m\u001b[32m.\u001b[0m\u001b[32m                            [ 66%]\u001b[0m\n",
      "src/tests/test_actors_scd_fixed.py \u001b[32m.\u001b[0m\u001b[32m                                     [ 83%]\u001b[0m\n",
      "src/tests/test_user_activity_cumulation.py \u001b[32m.\u001b[0m\u001b[32m                             [100%]\u001b[0m\n",
      "\n",
      "\u001b[32m============================== \u001b[32m\u001b[1m6 passed\u001b[0m\u001b[32m in 15.70s\u001b[0m\u001b[32m ==============================\u001b[0m\n"
     ]
    }
   ],
   "source": [
    "!pytest src"
   ]
  },
  {
   "cell_type": "code",
   "execution_count": null,
   "id": "da8743b8-6bc9-4c33-8d84-49d17d96f2e1",
   "metadata": {},
   "outputs": [],
   "source": []
  },
  {
   "cell_type": "code",
   "execution_count": null,
   "id": "a89c7193-ea91-456e-af48-24cbb0ec86eb",
   "metadata": {},
   "outputs": [],
   "source": []
  }
 ],
 "metadata": {
  "kernelspec": {
   "display_name": "Python 3 (ipykernel)",
   "language": "python",
   "name": "python3"
  },
  "language_info": {
   "codemirror_mode": {
    "name": "ipython",
    "version": 3
   },
   "file_extension": ".py",
   "mimetype": "text/x-python",
   "name": "python",
   "nbconvert_exporter": "python",
   "pygments_lexer": "ipython3",
   "version": "3.9.18"
  }
 },
 "nbformat": 4,
 "nbformat_minor": 5
}
